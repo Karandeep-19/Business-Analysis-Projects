{
  "cells": [
    {
      "cell_type": "markdown",
      "metadata": {},
      "source": "# Procurement Spend Analysis\nLoad invoice & supplier data, compute top suppliers, category spend, and save outputs."
    },
    {
      "cell_type": "code",
      "metadata": {},
      "source": "import pandas as pd\nfrom pathlib import Path\nimport matplotlib.pyplot as plt\nout=Path('../outputs'); out.mkdir(parents=True, exist_ok=True)\nproc=pd.read_csv('../data/procurement.csv', parse_dates=['invoice_date'])\nsupp=pd.read_csv('../data/suppliers.csv')\ndf=proc.merge(supp, on='supplier_id')\ndf.groupby('supplier_name')['amount'].sum().sort_values(ascending=False).head(10).to_csv('../outputs/top_10_suppliers.csv')\nplt.figure(); df.groupby('category')['amount'].sum().plot(kind='bar'); plt.savefig('../outputs/spend_by_category.png')\nprint('Saved outputs')",
      "outputs": [],
      "execution_count": null
    }
  ],
  "metadata": {
    "kernelspec": {
      "display_name": "Python 3",
      "language": "python",
      "name": "python3"
    },
    "language_info": {
      "name": "python",
      "pygments_lexer": "ipython3"
    }
  },
  "nbformat": 4,
  "nbformat_minor": 5
}