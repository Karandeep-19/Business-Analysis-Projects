{
  "cells": [
    {
      "cell_type": "markdown",
      "metadata": {},
      "source": "# Impact Tracking\nSimulated adoption and incidents metrics."
    },
    {
      "cell_type": "code",
      "metadata": {},
      "source": "import pandas as pd\nimport numpy as np\nfrom pathlib import Path\nout=Path('../outputs'); out.mkdir(parents=True, exist_ok=True)\ndf=pd.DataFrame({'month':pd.date_range('2023-01-01', periods=18, freq='MS'), 'trained_users':(np.linspace(10,400,18)).astype(int), 'incidents':(np.linspace(50,10,18)).astype(int)})\ndf.to_csv('../outputs/adoption_metrics.csv', index=False)\nprint('Saved adoption metrics')",
      "outputs": [],
      "execution_count": null
    }
  ],
  "metadata": {
    "kernelspec": {
      "display_name": "Python 3",
      "language": "python",
      "name": "python3"
    },
    "language_info": {
      "name": "python",
      "pygments_lexer": "ipython3"
    }
  },
  "nbformat": 4,
  "nbformat_minor": 5
}