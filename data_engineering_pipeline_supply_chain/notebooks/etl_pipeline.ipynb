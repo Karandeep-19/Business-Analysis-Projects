{
  "cells": [
    {
      "cell_type": "markdown",
      "metadata": {},
      "source": "# ETL Notebook\nRuns ETL script and inspects gold output."
    },
    {
      "cell_type": "code",
      "metadata": {},
      "source": "from src.etl import run_etl\nrun_etl()\nimport pandas as pd\npd.read_csv('../data/gold/supplier_spend.csv').head()",
      "outputs": [],
      "execution_count": null
    }
  ],
  "metadata": {
    "kernelspec": {
      "display_name": "Python 3",
      "language": "python",
      "name": "python3"
    },
    "language_info": {
      "name": "python",
      "pygments_lexer": "ipython3"
    }
  },
  "nbformat": 4,
  "nbformat_minor": 5
}