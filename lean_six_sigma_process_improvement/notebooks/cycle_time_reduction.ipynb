{
  "cells": [
    {
      "cell_type": "markdown",
      "metadata": {},
      "source": "# Cycle Time Reduction\nCompute mean reduction and perform t-test."
    },
    {
      "cell_type": "code",
      "metadata": {},
      "source": "import pandas as pd\nfrom scipy import stats\nfrom pathlib import Path\nout=Path('../outputs'); out.mkdir(parents=True, exist_ok=True)\nbefore=pd.read_csv('../data/process_times_before.csv')\nafter=pd.read_csv('../data/process_times_after.csv')\nmean_before=before['cycle_time_days'].mean()\nmean_after=after['cycle_time_days'].mean()\nreduction_pct=(mean_before-mean_after)/mean_before*100\nprint(mean_before, mean_after, reduction_pct)\ntstat, pval=stats.ttest_ind(before['cycle_time_days'], after['cycle_time_days'], equal_var=False)\nprint('pval', pval)\npd.DataFrame([{'mean_before':mean_before,'mean_after':mean_after,'reduction_pct':reduction_pct,'p_value':pval}]).to_csv('../outputs/summary_stats.csv')\nprint('Saved summary')",
      "outputs": [],
      "execution_count": null
    }
  ],
  "metadata": {
    "kernelspec": {
      "display_name": "Python 3",
      "language": "python",
      "name": "python3"
    },
    "language_info": {
      "name": "python",
      "pygments_lexer": "ipython3"
    }
  },
  "nbformat": 4,
  "nbformat_minor": 5
}