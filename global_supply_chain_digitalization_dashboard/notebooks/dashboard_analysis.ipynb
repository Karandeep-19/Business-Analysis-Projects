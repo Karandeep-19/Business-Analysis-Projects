{
  "cells": [
    {
      "cell_type": "markdown",
      "metadata": {},
      "source": "# Global Supply Chain Dashboard\nLoad dataset, validate, compute KPIs, and export outputs."
    },
    {
      "cell_type": "code",
      "metadata": {},
      "source": "import pandas as pd\nfrom pathlib import Path\nimport matplotlib.pyplot as plt\nimport seaborn as sns\nout=Path('../outputs'); out.mkdir(parents=True, exist_ok=True)\ndf=pd.read_csv('../data/supply_chain_data.csv', parse_dates=['date'])\nprint(df.shape)\ndf.head()",
      "outputs": [],
      "execution_count": null
    },
    {
      "cell_type": "code",
      "metadata": {},
      "source": "kpis={'total_spend': df['po_cost'].sum(), 'avg_lead_time': df['lead_time_days'].mean(), 'on_time_rate': df['on_time'].mean()*100, 'fill_rate': df['delivered_qty'].sum()/df['ordered_qty'].sum()*100}\nprint(kpis)\nimport pandas as pd\npd.Series(kpis).to_csv('../outputs/kpis_summary.csv')",
      "outputs": [],
      "execution_count": null
    },
    {
      "cell_type": "code",
      "metadata": {},
      "source": "# weekly spend\nplt.figure(); df.set_index('date').resample('W')['po_cost'].sum().plot(); plt.savefig('../outputs/weekly_spend.png')\n# supplier on-time\nsupp=df.groupby('supplier')['on_time'].mean().sort_values(ascending=False)\nsupp.head(10).to_csv('../outputs/top_suppliers_on_time.csv')\nplt.figure(); supp.head(10).plot(kind='bar'); plt.savefig('../outputs/top10_on_time.png')\nprint('Saved outputs')",
      "outputs": [],
      "execution_count": null
    }
  ],
  "metadata": {
    "kernelspec": {
      "display_name": "Python 3",
      "language": "python",
      "name": "python3"
    },
    "language_info": {
      "name": "python",
      "pygments_lexer": "ipython3"
    }
  },
  "nbformat": 4,
  "nbformat_minor": 5
}